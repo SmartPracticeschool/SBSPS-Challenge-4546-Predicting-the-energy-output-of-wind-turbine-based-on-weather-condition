{
  "nbformat": 4,
  "nbformat_minor": 0,
  "metadata": {
    "colab": {
      "name": "seq2seq_multistep_timeseries.ipynb",
      "provenance": [],
      "collapsed_sections": [
        "ptuZOgl253Nf",
        "4Hrnb3pgAePq",
        "Ynofqee_B4rD"
      ],
      "authorship_tag": "ABX9TyNPz/0n1YWqXLo3uVSqJcNV",
      "include_colab_link": true
    },
    "kernelspec": {
      "name": "python3",
      "display_name": "Python 3"
    }
  },
  "cells": [
    {
      "cell_type": "markdown",
      "metadata": {
        "id": "view-in-github",
        "colab_type": "text"
      },
      "source": [
        "<a href=\"https://colab.research.google.com/github/arnabGudu/IBMHackathon/blob/master/seq2seq_multistep_timeseries.ipynb\" target=\"_parent\"><img src=\"https://colab.research.google.com/assets/colab-badge.svg\" alt=\"Open In Colab\"/></a>"
      ]
    },
    {
      "cell_type": "code",
      "metadata": {
        "id": "Ho6SBsDB_-Hl",
        "colab_type": "code",
        "colab": {
          "base_uri": "https://localhost:8080/",
          "height": 121
        },
        "outputId": "bc416244-08c4-4e93-cc64-f42050170114"
      },
      "source": [
        "# !git clone https://github.com/gautham20/pytorch-ts.git\n",
        "# !mv pytorch-ts pytorch_ts\n",
        "# !pip install torch-lr-finder\n",
        "# !pip install torchcontrib\n",
        "\n",
        "from google.colab import drive\n",
        "drive.mount('/content/drive')\n",
        "\n",
        "!cp drive/My\\ Drive/datasets/wind_dataset/T1.csv wind.csv"
      ],
      "execution_count": null,
      "outputs": [
        {
          "output_type": "stream",
          "text": [
            "Go to this URL in a browser: https://accounts.google.com/o/oauth2/auth?client_id=947318989803-6bn6qk8qdgf4n4g3pfee6491hc0brc4i.apps.googleusercontent.com&redirect_uri=urn%3aietf%3awg%3aoauth%3a2.0%3aoob&response_type=code&scope=email%20https%3a%2f%2fwww.googleapis.com%2fauth%2fdocs.test%20https%3a%2f%2fwww.googleapis.com%2fauth%2fdrive%20https%3a%2f%2fwww.googleapis.com%2fauth%2fdrive.photos.readonly%20https%3a%2f%2fwww.googleapis.com%2fauth%2fpeopleapi.readonly\n",
            "\n",
            "Enter your authorization code:\n",
            "··········\n",
            "Mounted at /content/drive\n"
          ],
          "name": "stdout"
        }
      ]
    },
    {
      "cell_type": "code",
      "metadata": {
        "id": "TBTBxIvTbogs",
        "colab_type": "code",
        "colab": {}
      },
      "source": [
        "import torch\n",
        "import numpy as np\n",
        "import pandas as pd\n",
        "# import plotly_express as px\n",
        "import matplotlib.pyplot as plt"
      ],
      "execution_count": null,
      "outputs": []
    },
    {
      "cell_type": "markdown",
      "metadata": {
        "id": "MmIbyJxOdHAa",
        "colab_type": "text"
      },
      "source": [
        "# Data Preprocessing"
      ]
    },
    {
      "cell_type": "markdown",
      "metadata": {
        "id": "py49UbQo0xjt",
        "colab_type": "text"
      },
      "source": [
        "## Feature Engineering"
      ]
    },
    {
      "cell_type": "code",
      "metadata": {
        "id": "FSL1tXXzjHQU",
        "colab_type": "code",
        "colab": {
          "base_uri": "https://localhost:8080/",
          "height": 380
        },
        "outputId": "73323c05-4d73-48cf-9055-c85fd695b8e9"
      },
      "source": [
        "original_data = pd.read_csv('wind.csv')\n",
        "data = original_data.copy()\n",
        "\n",
        "data.rename(columns={\"Date/Time\":\"Time\",\n",
        "                     \"LV ActivePower (kW)\":\"Active_Power(kW)\",\n",
        "                     \"Wind Speed (m/s)\":\"WindSpeed(m/s)\",\n",
        "                     \"Wind Direction (°)\":\"Wind_Direction\"},\n",
        "            inplace=True)\n",
        "data.head()"
      ],
      "execution_count": null,
      "outputs": [
        {
          "output_type": "execute_result",
          "data": {
            "text/html": [
              "<div>\n",
              "<style scoped>\n",
              "    .dataframe tbody tr th:only-of-type {\n",
              "        vertical-align: middle;\n",
              "    }\n",
              "\n",
              "    .dataframe tbody tr th {\n",
              "        vertical-align: top;\n",
              "    }\n",
              "\n",
              "    .dataframe thead th {\n",
              "        text-align: right;\n",
              "    }\n",
              "</style>\n",
              "<table border=\"1\" class=\"dataframe\">\n",
              "  <thead>\n",
              "    <tr style=\"text-align: right;\">\n",
              "      <th></th>\n",
              "      <th>Time</th>\n",
              "      <th>Active_Power(kW)</th>\n",
              "      <th>WindSpeed(m/s)</th>\n",
              "      <th>Theoretical_Power_Curve (KWh)</th>\n",
              "      <th>Wind_Direction</th>\n",
              "    </tr>\n",
              "  </thead>\n",
              "  <tbody>\n",
              "    <tr>\n",
              "      <th>0</th>\n",
              "      <td>01 01 2018 00:00</td>\n",
              "      <td>380.047791</td>\n",
              "      <td>5.311336</td>\n",
              "      <td>416.328908</td>\n",
              "      <td>259.994904</td>\n",
              "    </tr>\n",
              "    <tr>\n",
              "      <th>1</th>\n",
              "      <td>01 01 2018 00:10</td>\n",
              "      <td>453.769196</td>\n",
              "      <td>5.672167</td>\n",
              "      <td>519.917511</td>\n",
              "      <td>268.641113</td>\n",
              "    </tr>\n",
              "    <tr>\n",
              "      <th>2</th>\n",
              "      <td>01 01 2018 00:20</td>\n",
              "      <td>306.376587</td>\n",
              "      <td>5.216037</td>\n",
              "      <td>390.900016</td>\n",
              "      <td>272.564789</td>\n",
              "    </tr>\n",
              "    <tr>\n",
              "      <th>3</th>\n",
              "      <td>01 01 2018 00:30</td>\n",
              "      <td>419.645905</td>\n",
              "      <td>5.659674</td>\n",
              "      <td>516.127569</td>\n",
              "      <td>271.258087</td>\n",
              "    </tr>\n",
              "    <tr>\n",
              "      <th>4</th>\n",
              "      <td>01 01 2018 00:40</td>\n",
              "      <td>380.650696</td>\n",
              "      <td>5.577941</td>\n",
              "      <td>491.702972</td>\n",
              "      <td>265.674286</td>\n",
              "    </tr>\n",
              "  </tbody>\n",
              "</table>\n",
              "</div>"
            ],
            "text/plain": [
              "               Time  ...  Wind_Direction\n",
              "0  01 01 2018 00:00  ...      259.994904\n",
              "1  01 01 2018 00:10  ...      268.641113\n",
              "2  01 01 2018 00:20  ...      272.564789\n",
              "3  01 01 2018 00:30  ...      271.258087\n",
              "4  01 01 2018 00:40  ...      265.674286\n",
              "\n",
              "[5 rows x 5 columns]"
            ]
          },
          "metadata": {
            "tags": []
          },
          "execution_count": 22
        }
      ]
    },
    {
      "cell_type": "code",
      "metadata": {
        "id": "i3ZW1VjmeTR9",
        "colab_type": "code",
        "colab": {}
      },
      "source": [
        "# All Transform funtions\n",
        "\n",
        "def find_month(x):\n",
        "  months = ['Jan', 'Feb', 'Mar', 'Apr', 'May', 'Jun', 'Jul', 'Aug', 'Sep', \n",
        "            'Oct', 'Nov', 'Dec']\n",
        "  for i in range(12):\n",
        "    if \" 0\" + str(i + 1) + \" \" in x:\n",
        "      return months[i]\n",
        "\n",
        "def mean_speed(x):\n",
        "  return [i - 0.25 for i in np.arange(0.25, 25.5 + 0.5, 0.5) if x < i][0]\n",
        "\n",
        "def mean_direction(x):\n",
        "  x = [i - 15 for i in np.arange(15, 375 + 30, 30) if x < i][0]\n",
        "  return 0 if x == 360 else x\n",
        "\n",
        "def find_direction(x):\n",
        "  months = ['N', 'NNE', 'NEE', 'E', 'SEE', 'SSE', \n",
        "            'S', 'SSW', 'SWW', 'W', 'NWW', 'NNW']\n",
        "  for i in range(12):\n",
        "    if i * 30 == x:\n",
        "      return months[i]"
      ],
      "execution_count": null,
      "outputs": []
    },
    {
      "cell_type": "code",
      "metadata": {
        "id": "XkGduKPv50h1",
        "colab_type": "code",
        "colab": {
          "base_uri": "https://localhost:8080/",
          "height": 400
        },
        "outputId": "e337b330-ecf7-44f0-b9d5-5d87e395520d"
      },
      "source": [
        "data['Month'] = data.Time.apply(find_month)\n",
        "data['mean_WindSpeed'] = data['WindSpeed(m/s)'].apply(mean_speed)\n",
        "data['mean_Direction'] = data['Wind_Direction'].apply(mean_direction)\n",
        "data['Direction'] = data['mean_Direction'].apply(find_direction)\n",
        "data.head()"
      ],
      "execution_count": null,
      "outputs": [
        {
          "output_type": "execute_result",
          "data": {
            "text/html": [
              "<div>\n",
              "<style scoped>\n",
              "    .dataframe tbody tr th:only-of-type {\n",
              "        vertical-align: middle;\n",
              "    }\n",
              "\n",
              "    .dataframe tbody tr th {\n",
              "        vertical-align: top;\n",
              "    }\n",
              "\n",
              "    .dataframe thead th {\n",
              "        text-align: right;\n",
              "    }\n",
              "</style>\n",
              "<table border=\"1\" class=\"dataframe\">\n",
              "  <thead>\n",
              "    <tr style=\"text-align: right;\">\n",
              "      <th></th>\n",
              "      <th>Time</th>\n",
              "      <th>Active_Power(kW)</th>\n",
              "      <th>WindSpeed(m/s)</th>\n",
              "      <th>Theoretical_Power_Curve (KWh)</th>\n",
              "      <th>Wind_Direction</th>\n",
              "      <th>Month</th>\n",
              "      <th>mean_WindSpeed</th>\n",
              "      <th>mean_Direction</th>\n",
              "      <th>Direction</th>\n",
              "    </tr>\n",
              "  </thead>\n",
              "  <tbody>\n",
              "    <tr>\n",
              "      <th>0</th>\n",
              "      <td>01 01 2018 00:00</td>\n",
              "      <td>380.047791</td>\n",
              "      <td>5.311336</td>\n",
              "      <td>416.328908</td>\n",
              "      <td>259.994904</td>\n",
              "      <td>Jan</td>\n",
              "      <td>5.5</td>\n",
              "      <td>270</td>\n",
              "      <td>W</td>\n",
              "    </tr>\n",
              "    <tr>\n",
              "      <th>1</th>\n",
              "      <td>01 01 2018 00:10</td>\n",
              "      <td>453.769196</td>\n",
              "      <td>5.672167</td>\n",
              "      <td>519.917511</td>\n",
              "      <td>268.641113</td>\n",
              "      <td>Jan</td>\n",
              "      <td>5.5</td>\n",
              "      <td>270</td>\n",
              "      <td>W</td>\n",
              "    </tr>\n",
              "    <tr>\n",
              "      <th>2</th>\n",
              "      <td>01 01 2018 00:20</td>\n",
              "      <td>306.376587</td>\n",
              "      <td>5.216037</td>\n",
              "      <td>390.900016</td>\n",
              "      <td>272.564789</td>\n",
              "      <td>Jan</td>\n",
              "      <td>5.0</td>\n",
              "      <td>270</td>\n",
              "      <td>W</td>\n",
              "    </tr>\n",
              "    <tr>\n",
              "      <th>3</th>\n",
              "      <td>01 01 2018 00:30</td>\n",
              "      <td>419.645905</td>\n",
              "      <td>5.659674</td>\n",
              "      <td>516.127569</td>\n",
              "      <td>271.258087</td>\n",
              "      <td>Jan</td>\n",
              "      <td>5.5</td>\n",
              "      <td>270</td>\n",
              "      <td>W</td>\n",
              "    </tr>\n",
              "    <tr>\n",
              "      <th>4</th>\n",
              "      <td>01 01 2018 00:40</td>\n",
              "      <td>380.650696</td>\n",
              "      <td>5.577941</td>\n",
              "      <td>491.702972</td>\n",
              "      <td>265.674286</td>\n",
              "      <td>Jan</td>\n",
              "      <td>5.5</td>\n",
              "      <td>270</td>\n",
              "      <td>W</td>\n",
              "    </tr>\n",
              "  </tbody>\n",
              "</table>\n",
              "</div>"
            ],
            "text/plain": [
              "               Time  Active_Power(kW)  ...  mean_Direction  Direction\n",
              "0  01 01 2018 00:00        380.047791  ...             270          W\n",
              "1  01 01 2018 00:10        453.769196  ...             270          W\n",
              "2  01 01 2018 00:20        306.376587  ...             270          W\n",
              "3  01 01 2018 00:30        419.645905  ...             270          W\n",
              "4  01 01 2018 00:40        380.650696  ...             270          W\n",
              "\n",
              "[5 rows x 9 columns]"
            ]
          },
          "metadata": {
            "tags": []
          },
          "execution_count": 24
        }
      ]
    },
    {
      "cell_type": "code",
      "metadata": {
        "id": "vA5deIFG9vge",
        "colab_type": "code",
        "colab": {
          "base_uri": "https://localhost:8080/",
          "height": 34
        },
        "outputId": "ea9b586e-7b12-41e9-8804-d101912b4834"
      },
      "source": [
        "len(data['WindSpeed(m/s)'])\n",
        "\n",
        "# Remove the data that wind speed is smaller than 3.5 and bigger than 25.5\n",
        "data = data[(data['WindSpeed(m/s)'] >  3.5) & \n",
        "            (data['WindSpeed(m/s)'] <= 25.5)]\n",
        "\n",
        "# Number of values where wind speed is bigger than 3.5 and active power is zero.\n",
        "data = data[((data['Active_Power(kW)'] != 0) & \n",
        "             (data['WindSpeed(m/s)'] > 3.5)) | \n",
        "            data['WindSpeed(m/s)'] <= 3.5]\n",
        "\n",
        "len(data['WindSpeed(m/s)'])"
      ],
      "execution_count": null,
      "outputs": [
        {
          "output_type": "execute_result",
          "data": {
            "text/plain": [
              "40635"
            ]
          },
          "metadata": {
            "tags": []
          },
          "execution_count": 25
        }
      ]
    },
    {
      "cell_type": "code",
      "metadata": {
        "id": "GUsGPpta_MZ0",
        "colab_type": "code",
        "colab": {
          "base_uri": "https://localhost:8080/",
          "height": 400
        },
        "outputId": "b695ec82-5501-4667-d888-1df29bb36286"
      },
      "source": [
        "# Loss calculation\n",
        "data = data.sort_values('Time')\n",
        "data['Loss_Value(kW)'] = data['Theoretical_Power_Curve (KWh)'] - data['Active_Power(kW)']\n",
        "data['Loss(%)'] = data['Loss_Value(kW)']/data['Theoretical_Power_Curve (KWh)']*100\n",
        "\n",
        "r = {i:2 for i in list(data.keys())}\n",
        "data = data.round(r)\n",
        "data.head()"
      ],
      "execution_count": null,
      "outputs": [
        {
          "output_type": "execute_result",
          "data": {
            "text/html": [
              "<div>\n",
              "<style scoped>\n",
              "    .dataframe tbody tr th:only-of-type {\n",
              "        vertical-align: middle;\n",
              "    }\n",
              "\n",
              "    .dataframe tbody tr th {\n",
              "        vertical-align: top;\n",
              "    }\n",
              "\n",
              "    .dataframe thead th {\n",
              "        text-align: right;\n",
              "    }\n",
              "</style>\n",
              "<table border=\"1\" class=\"dataframe\">\n",
              "  <thead>\n",
              "    <tr style=\"text-align: right;\">\n",
              "      <th></th>\n",
              "      <th>Time</th>\n",
              "      <th>Active_Power(kW)</th>\n",
              "      <th>WindSpeed(m/s)</th>\n",
              "      <th>Theoretical_Power_Curve (KWh)</th>\n",
              "      <th>Wind_Direction</th>\n",
              "      <th>Month</th>\n",
              "      <th>mean_WindSpeed</th>\n",
              "      <th>mean_Direction</th>\n",
              "      <th>Direction</th>\n",
              "      <th>Loss_Value(kW)</th>\n",
              "      <th>Loss(%)</th>\n",
              "    </tr>\n",
              "  </thead>\n",
              "  <tbody>\n",
              "    <tr>\n",
              "      <th>0</th>\n",
              "      <td>01 01 2018 00:00</td>\n",
              "      <td>380.05</td>\n",
              "      <td>5.31</td>\n",
              "      <td>416.33</td>\n",
              "      <td>259.99</td>\n",
              "      <td>Jan</td>\n",
              "      <td>5.5</td>\n",
              "      <td>270</td>\n",
              "      <td>W</td>\n",
              "      <td>36.28</td>\n",
              "      <td>8.71</td>\n",
              "    </tr>\n",
              "    <tr>\n",
              "      <th>1</th>\n",
              "      <td>01 01 2018 00:10</td>\n",
              "      <td>453.77</td>\n",
              "      <td>5.67</td>\n",
              "      <td>519.92</td>\n",
              "      <td>268.64</td>\n",
              "      <td>Jan</td>\n",
              "      <td>5.5</td>\n",
              "      <td>270</td>\n",
              "      <td>W</td>\n",
              "      <td>66.15</td>\n",
              "      <td>12.72</td>\n",
              "    </tr>\n",
              "    <tr>\n",
              "      <th>2</th>\n",
              "      <td>01 01 2018 00:20</td>\n",
              "      <td>306.38</td>\n",
              "      <td>5.22</td>\n",
              "      <td>390.90</td>\n",
              "      <td>272.56</td>\n",
              "      <td>Jan</td>\n",
              "      <td>5.0</td>\n",
              "      <td>270</td>\n",
              "      <td>W</td>\n",
              "      <td>84.52</td>\n",
              "      <td>21.62</td>\n",
              "    </tr>\n",
              "    <tr>\n",
              "      <th>3</th>\n",
              "      <td>01 01 2018 00:30</td>\n",
              "      <td>419.65</td>\n",
              "      <td>5.66</td>\n",
              "      <td>516.13</td>\n",
              "      <td>271.26</td>\n",
              "      <td>Jan</td>\n",
              "      <td>5.5</td>\n",
              "      <td>270</td>\n",
              "      <td>W</td>\n",
              "      <td>96.48</td>\n",
              "      <td>18.69</td>\n",
              "    </tr>\n",
              "    <tr>\n",
              "      <th>4</th>\n",
              "      <td>01 01 2018 00:40</td>\n",
              "      <td>380.65</td>\n",
              "      <td>5.58</td>\n",
              "      <td>491.70</td>\n",
              "      <td>265.67</td>\n",
              "      <td>Jan</td>\n",
              "      <td>5.5</td>\n",
              "      <td>270</td>\n",
              "      <td>W</td>\n",
              "      <td>111.05</td>\n",
              "      <td>22.59</td>\n",
              "    </tr>\n",
              "  </tbody>\n",
              "</table>\n",
              "</div>"
            ],
            "text/plain": [
              "               Time  Active_Power(kW)  ...  Loss_Value(kW)  Loss(%)\n",
              "0  01 01 2018 00:00            380.05  ...           36.28     8.71\n",
              "1  01 01 2018 00:10            453.77  ...           66.15    12.72\n",
              "2  01 01 2018 00:20            306.38  ...           84.52    21.62\n",
              "3  01 01 2018 00:30            419.65  ...           96.48    18.69\n",
              "4  01 01 2018 00:40            380.65  ...          111.05    22.59\n",
              "\n",
              "[5 rows x 11 columns]"
            ]
          },
          "metadata": {
            "tags": []
          },
          "execution_count": 26
        }
      ]
    },
    {
      "cell_type": "code",
      "metadata": {
        "id": "UnuYMLrvHTm2",
        "colab_type": "code",
        "colab": {}
      },
      "source": [
        "def summary(input):\n",
        "  data_ = data.groupby(input).mean()\n",
        "  data_.drop(columns={\"WindSpeed(m/s)\", \"Wind_Direction\", \"mean_Direction\"},\n",
        "                  inplace=True)\n",
        "  \n",
        "  data_[input] = data_.index.copy()\n",
        "  # data_ = data_[[\"WindSpeed(m/s)\",\"ActivePower(kW)\",\"Theoretical_Power_Curve (KWh)\",\n",
        "  #                \"Loss_Value(kW)\",\"Loss(%)\"]]\n",
        "\n",
        "  # data_[\"Index\"] = list(range(1, len(data_.index) + 1))\n",
        "  # data_.setIndex(\"Index\", inplace=True)\n",
        "\n",
        "  # data_ = data_.round({\"WindSpeed(m/s)\": 1, 'ActivePower(kW)': 2, \n",
        "  #                      'Theoretical_Power_Curve (KWh)': 2, \n",
        "  #                      'Loss_Value(kW)': 2, 'Loss(%)': 2})\n",
        "  \n",
        "  # data_[\"count\"] = [len(data['mean_WindSpeed'][data['mean_WindSpeed'] == i])\n",
        "  #                   for i in data_['WindSpeed(m/s)']]\n",
        "  return data_"
      ],
      "execution_count": null,
      "outputs": []
    },
    {
      "cell_type": "code",
      "metadata": {
        "id": "vKqpX-YxbPUX",
        "colab_type": "code",
        "colab": {
          "base_uri": "https://localhost:8080/",
          "height": 262
        },
        "outputId": "ae88a0a6-748b-4e6b-8ea7-8b453ed7376a"
      },
      "source": [
        "summary('mean_WindSpeed').head()"
      ],
      "execution_count": null,
      "outputs": [
        {
          "output_type": "execute_result",
          "data": {
            "text/html": [
              "<div>\n",
              "<style scoped>\n",
              "    .dataframe tbody tr th:only-of-type {\n",
              "        vertical-align: middle;\n",
              "    }\n",
              "\n",
              "    .dataframe tbody tr th {\n",
              "        vertical-align: top;\n",
              "    }\n",
              "\n",
              "    .dataframe thead th {\n",
              "        text-align: right;\n",
              "    }\n",
              "</style>\n",
              "<table border=\"1\" class=\"dataframe\">\n",
              "  <thead>\n",
              "    <tr style=\"text-align: right;\">\n",
              "      <th></th>\n",
              "      <th>Active_Power(kW)</th>\n",
              "      <th>Theoretical_Power_Curve (KWh)</th>\n",
              "      <th>Loss_Value(kW)</th>\n",
              "      <th>Loss(%)</th>\n",
              "      <th>mean_WindSpeed</th>\n",
              "    </tr>\n",
              "    <tr>\n",
              "      <th>mean_WindSpeed</th>\n",
              "      <th></th>\n",
              "      <th></th>\n",
              "      <th></th>\n",
              "      <th></th>\n",
              "      <th></th>\n",
              "    </tr>\n",
              "  </thead>\n",
              "  <tbody>\n",
              "    <tr>\n",
              "      <th>3.5</th>\n",
              "      <td>35.813634</td>\n",
              "      <td>67.725698</td>\n",
              "      <td>31.911848</td>\n",
              "      <td>47.427813</td>\n",
              "      <td>3.5</td>\n",
              "    </tr>\n",
              "    <tr>\n",
              "      <th>4.0</th>\n",
              "      <td>86.081407</td>\n",
              "      <td>127.311024</td>\n",
              "      <td>41.229642</td>\n",
              "      <td>32.821543</td>\n",
              "      <td>4.0</td>\n",
              "    </tr>\n",
              "    <tr>\n",
              "      <th>4.5</th>\n",
              "      <td>167.611158</td>\n",
              "      <td>221.949533</td>\n",
              "      <td>54.338354</td>\n",
              "      <td>24.776826</td>\n",
              "      <td>4.5</td>\n",
              "    </tr>\n",
              "    <tr>\n",
              "      <th>5.0</th>\n",
              "      <td>269.380503</td>\n",
              "      <td>336.488211</td>\n",
              "      <td>67.107954</td>\n",
              "      <td>20.013567</td>\n",
              "      <td>5.0</td>\n",
              "    </tr>\n",
              "    <tr>\n",
              "      <th>5.5</th>\n",
              "      <td>385.072374</td>\n",
              "      <td>472.130461</td>\n",
              "      <td>87.058216</td>\n",
              "      <td>18.487364</td>\n",
              "      <td>5.5</td>\n",
              "    </tr>\n",
              "  </tbody>\n",
              "</table>\n",
              "</div>"
            ],
            "text/plain": [
              "                Active_Power(kW)  ...  mean_WindSpeed\n",
              "mean_WindSpeed                    ...                \n",
              "3.5                    35.813634  ...             3.5\n",
              "4.0                    86.081407  ...             4.0\n",
              "4.5                   167.611158  ...             4.5\n",
              "5.0                   269.380503  ...             5.0\n",
              "5.5                   385.072374  ...             5.5\n",
              "\n",
              "[5 rows x 5 columns]"
            ]
          },
          "metadata": {
            "tags": []
          },
          "execution_count": 41
        }
      ]
    },
    {
      "cell_type": "markdown",
      "metadata": {
        "id": "ptuZOgl253Nf",
        "colab_type": "text"
      },
      "source": [
        "# Data Processing"
      ]
    },
    {
      "cell_type": "code",
      "metadata": {
        "id": "B_N6yIIsdwvp",
        "colab_type": "code",
        "colab": {
          "base_uri": "https://localhost:8080/",
          "height": 34
        },
        "outputId": "e5b5796e-724f-4642-9cc9-bae466459484"
      },
      "source": [
        "data['Date/Time'] = pd.to_datetime(data['Date/Time'])\n",
        "# print start datetime and end datetime\n",
        "print(data['Date/Time'].min(), data['Date/Time'].max())\n",
        "\n",
        "# TODO\n",
        "# set test data to nan\n",
        "# \n",
        "\n",
        "data['Wind Direction (°)'].describe()\n",
        "\n",
        "data['dayofweek'] = data['Date/Time'].dt.dayofweek\n",
        "data['month'] = data['Date/Time'].dt.month\n",
        "data['day'] = data['Date/Time'].dt.day"
      ],
      "execution_count": null,
      "outputs": [
        {
          "output_type": "stream",
          "text": [
            "2018-01-01 00:00:00 2018-12-31 23:50:00\n"
          ],
          "name": "stdout"
        }
      ]
    },
    {
      "cell_type": "code",
      "metadata": {
        "id": "lWJGKmD4gEud",
        "colab_type": "code",
        "colab": {}
      },
      "source": [
        "def sin_transform(values):\n",
        "    return np.sin(2*np.pi*values/len(set(values)))\n",
        "\n",
        "def cos_transform(values):\n",
        "    return np.cos(2*np.pi*values/len(set(values)))"
      ],
      "execution_count": null,
      "outputs": []
    },
    {
      "cell_type": "code",
      "metadata": {
        "id": "lXLZHgHTgIla",
        "colab_type": "code",
        "colab": {}
      },
      "source": [
        "data['dayofweek_sin'] = sin_transform(data['dayofweek'])\n",
        "data['dayofweek_cos'] = cos_transform(data['dayofweek'])\n",
        "data['month_sin'] = sin_transform(data['month'])\n",
        "data['month_cos'] = cos_transform(data['month'])\n",
        "data['day_sin'] = sin_transform(data['day'])\n",
        "data['day_cos'] = cos_transform(data['day'])"
      ],
      "execution_count": null,
      "outputs": []
    },
    {
      "cell_type": "code",
      "metadata": {
        "id": "2SrBJyaagZBL",
        "colab_type": "code",
        "colab": {
          "base_uri": "https://localhost:8080/",
          "height": 282
        },
        "outputId": "efb2178c-4d88-44d7-a3ca-229f3cb5e5ea"
      },
      "source": [
        "# data = data.sort_values(['store_item_id', 'date'])\n",
        "\n",
        "plt.plot(sin_transform(np.arange(0,31)), label='day_sin')\n",
        "plt.plot(cos_transform(np.arange(0,31)), label='day_cos')\n",
        "plt.legend()"
      ],
      "execution_count": null,
      "outputs": [
        {
          "output_type": "execute_result",
          "data": {
            "text/plain": [
              "<matplotlib.legend.Legend at 0x7f4acf9dc080>"
            ]
          },
          "metadata": {
            "tags": []
          },
          "execution_count": 20
        },
        {
          "output_type": "display_data",
          "data": {
            "image/png": "[encoded data removed]",
            "text/plain": [
              "<Figure size 432x288 with 1 Axes>"
            ]
          },
          "metadata": {
            "tags": [],
            "needs_background": "light"
          }
        }
      ]
    },
    {
      "cell_type": "markdown",
      "metadata": {
        "id": "4Hrnb3pgAePq",
        "colab_type": "text"
      },
      "source": [
        "# Prepare Dataloader"
      ]
    },
    {
      "cell_type": "code",
      "metadata": {
        "id": "H6gyy7HvAVGV",
        "colab_type": "code",
        "colab": {}
      },
      "source": [
        "from torch.utils.data import Dataset, DataLoader"
      ],
      "execution_count": null,
      "outputs": []
    },
    {
      "cell_type": "code",
      "metadata": {
        "id": "Oxk2Ak_BAkdy",
        "colab_type": "code",
        "colab": {}
      },
      "source": [
        "class WindDataset(Dataset):\n",
        "  def __init__(self, cat_columns=[], num_columns=[], embed_vector_size=None, \n",
        "               decoder_input=True, ohe_cat_columns=False):\n",
        "    super().__init__()\n",
        "    self.sequence_data = None\n",
        "    self.cat_columns = cat_columns\n",
        "    self.num_columns = num_columns\n",
        "    self.cat_classes = {}\n",
        "    self.cat_embed_shape = []\n",
        "    self.cat_embed_vector_size = embed_vector_size if embed_vector_size is not None else {}\n",
        "\n",
        "    self.pass_decider"
      ],
      "execution_count": null,
      "outputs": []
    },
    {
      "cell_type": "code",
      "metadata": {
        "id": "sCSkVnHTS8vR",
        "colab_type": "code",
        "colab": {}
      },
      "source": [
        "train_dataset = WindDataset(cat_columns=['store', 'item'], num_columns=['yearly_corr'],\n",
        "                            embed_vector_size={'store': 4, 'item': 4},\n",
        "                            ohe_cat_columns=True)\n",
        "valid_dataset = WindDataset(cat_columns=['store', 'item'], num_columns=['yearly_corr'],\n",
        "                            embed_vector_size={'store': 4, 'item': 4},\n",
        "                            ohe_cat_columns=True)\n",
        "test_dataset = WindDataset(cat_columns=['store', 'item'], num_columns=['yearly_corr'],\n",
        "                            embed_vector_size={'store': 4, 'item': 4},\n",
        "                            ohe_cat_columns=True)"
      ],
      "execution_count": null,
      "outputs": []
    },
    {
      "cell_type": "code",
      "metadata": {
        "id": "g5_HPv8fUAgH",
        "colab_type": "code",
        "colab": {}
      },
      "source": [
        "train_dataset.load_sequence_data(train_sequence_data)\n",
        "valid_dataset.load_sequence_data(valid_sequence_data)\n",
        "test_dataset.load_sequence_data(test_sequence_data)"
      ],
      "execution_count": null,
      "outputs": []
    },
    {
      "cell_type": "markdown",
      "metadata": {
        "id": "Ynofqee_B4rD",
        "colab_type": "text"
      },
      "source": [
        "# Encoder Decoder Model"
      ]
    },
    {
      "cell_type": "code",
      "metadata": {
        "id": "9HBCImzQB4M-",
        "colab_type": "code",
        "colab": {}
      },
      "source": [
        "import torch\n",
        "import numpy as np\n",
        "\n",
        "import torch.nn as nn\n",
        "import torch.optim as optim\n",
        "\n",
        "from pytorch_ts.ts_models.encoders import RNNEncoder, RNNConcatEncoder, RNNInitEncoder\n",
        "from pytorch_ts.ts_models.decoders import DecoderCell, AttentionDecoderCell\n",
        "from pytorch_ts.ts_models.encoder_decoder import EncoderDecoderWrapper\n",
        "# from pytorch_ts.ts_models.encoder_decoder_attention import EncoderDecoderAttentionWrapper\n",
        "\n",
        "from pytorch_ts.torch_utils.cocob import COCOBBackprop\n",
        "from pytorch_ts.torch_utils.trainer import TorchTrainer\n",
        "import torchcontrib\n",
        "\n",
        "torch.manual_seed(420)\n",
        "np.random.seed(420)"
      ],
      "execution_count": null,
      "outputs": []
    },
    {
      "cell_type": "code",
      "metadata": {
        "id": "hMycDsHIMNpb",
        "colab_type": "code",
        "colab": {
          "base_uri": "https://localhost:8080/",
          "height": 282
        },
        "outputId": "b82c9c87-5770-4818-e56f-bdba8c8a1829"
      },
      "source": [
        "device = 'cpu'\n",
        "\n",
        "encoder = RNNEncoder(\n",
        "    input_feature_len = 71,\n",
        "    rnn_num_layers = 1,\n",
        "    hidden_size = 100,\n",
        "    sequence_len = 180,\n",
        "    bidirectional = False,\n",
        "    device = device,\n",
        "    rnn_dropout = 0.2\n",
        ")\n",
        "\n",
        "decoder_cell = DecoderCell(\n",
        "    input_feature_len = 10,\n",
        "    hidden_size = 100,\n",
        ")\n",
        "\n",
        "loss_function = nn.MSELoss()\n",
        "\n",
        "encoder = encoder.to(device)\n",
        "decoder_cell = decoder_cell.to(device)\n",
        "\n",
        "model = EncoderDecoderWrapper(\n",
        "    encoder,\n",
        "    decoder_cell,\n",
        "    output_size = 90,\n",
        "    teacher_forcing = 0,\n",
        "    sequence_len = 180,\n",
        "    decoder_input = True,\n",
        "    device=device,\n",
        ")\n",
        "\n",
        "model = model.to(device)\n",
        "\n",
        "encoder_optimizer = torch.optim.AdamW(encoder.parameters(), lr = 1e-3, \n",
        "                                      weight_decay = 1e-2)\n",
        "decoder_optimizer = torch.optim.AdamW(decoder_cell.parameters(), lr = 1e-3, \n",
        "                                      weight_decay = 1e-2)\n",
        "\n",
        "encoder_scheduler = optim.lr_scheduler.OneCycleLR(encoder_optimizer, \n",
        "                                                  max_lr=1e-3, \n",
        "                                                  steps_per_epoch=len(train_dataloader), \n",
        "                                                  epochs=6)\n",
        "decoder_scheduler = optim.lr_scheduler.OneCycleLR(decoder_optimizer, \n",
        "                                                  max_lr=1e-3, \n",
        "                                                  steps_per_epoch=len(train_dataloader), \n",
        "                                                  epochs=6)\n",
        "\n",
        "model_optimizer = optim.AdamW(model.parameters(), lr=1e-2, weight_decay=1e-2)"
      ],
      "execution_count": null,
      "outputs": [
        {
          "output_type": "stream",
          "text": [
            "/usr/local/lib/python3.6/dist-packages/torch/nn/modules/rnn.py:50: UserWarning: dropout option adds dropout after all but last recurrent layer, so non-zero dropout expects num_layers greater than 1, but got dropout=0.2 and num_layers=1\n",
            "  \"num_layers={}\".format(dropout, num_layers))\n"
          ],
          "name": "stderr"
        },
        {
          "output_type": "error",
          "ename": "NameError",
          "evalue": "ignored",
          "traceback": [
            "\u001b[0;31m---------------------------------------------------------------------------\u001b[0m",
            "\u001b[0;31mNameError\u001b[0m                                 Traceback (most recent call last)",
            "\u001b[0;32m<ipython-input-24-ce86a7023399>\u001b[0m in \u001b[0;36m<module>\u001b[0;34m()\u001b[0m\n\u001b[1;32m     40\u001b[0m encoder_scheduler = optim.lr_scheduler.OneCycleLR(encoder_optimizer, \n\u001b[1;32m     41\u001b[0m                                                   \u001b[0mmax_lr\u001b[0m\u001b[0;34m=\u001b[0m\u001b[0;36m1e-3\u001b[0m\u001b[0;34m,\u001b[0m\u001b[0;34m\u001b[0m\u001b[0;34m\u001b[0m\u001b[0m\n\u001b[0;32m---> 42\u001b[0;31m                                                   \u001b[0msteps_per_epoch\u001b[0m\u001b[0;34m=\u001b[0m\u001b[0mlen\u001b[0m\u001b[0;34m(\u001b[0m\u001b[0mtrain_dataloader\u001b[0m\u001b[0;34m)\u001b[0m\u001b[0;34m,\u001b[0m\u001b[0;34m\u001b[0m\u001b[0;34m\u001b[0m\u001b[0m\n\u001b[0m\u001b[1;32m     43\u001b[0m                                                   epochs=6)\n\u001b[1;32m     44\u001b[0m decoder_scheduler = optim.lr_scheduler.OneCycleLR(decoder_optimizer, \n",
            "\u001b[0;31mNameError\u001b[0m: name 'train_dataloader' is not defined"
          ]
        }
      ]
    },
    {
      "cell_type": "code",
      "metadata": {
        "id": "BQYXnI0_RJbd",
        "colab_type": "code",
        "colab": {}
      },
      "source": [
        "trainer = TorchTrainer(\n",
        "    model,\n",
        "    [encoder_optimizer, decoder_optimizer],\n",
        "    loss_function,\n",
        "    [encoder_scheduler, decoder_scheduler],\n",
        "    device,\n",
        "    scheduler_batch_step=True,\n",
        "    pass_y = True,\n",
        ")"
      ],
      "execution_count": null,
      "outputs": []
    },
    {
      "cell_type": "markdown",
      "metadata": {
        "id": "G1PIix0Hds-d",
        "colab_type": "text"
      },
      "source": [
        "# Prediction"
      ]
    },
    {
      "cell_type": "code",
      "metadata": {
        "id": "7rJZRgAqduPb",
        "colab_type": "code",
        "colab": {}
      },
      "source": [
        "import datetime\n",
        "import time\n",
        "\n",
        "data = pd.read_csv('wind.csv')\n",
        "data.rename(columns={'Theoretical_Power_Curve (KWh)':'Power',\n",
        "                     'LV ActivePower (kW)':'ActivePower',\n",
        "                     \"Wind Speed (m/s)\":\"WindSpeed\",\n",
        "                     \"Wind Direction (°)\":\"WindDirection\"},\n",
        "            inplace=True)\n",
        "data['Time']=data['Date/Time'].apply(lambda x: time.strptime(x,\"%d %m %Y %H:%M\")[4])\n",
        "data.head()"
      ],
      "execution_count": null,
      "outputs": []
    },
    {
      "cell_type": "code",
      "metadata": {
        "id": "JFXQ3MO8eNbY",
        "colab_type": "code",
        "colab": {
          "base_uri": "https://localhost:8080/",
          "height": 383
        },
        "outputId": "8c9a9abd-2814-4706-a0ac-c02a418de512"
      },
      "source": [
        "temp = data['Time'][1:].values - data['Time'][0:-1].values\n",
        "temp = np.array([0] + list(temp))\n",
        "data['TimeDiff'] = temp\n",
        "data.TimeDiff.unique()\n",
        "\n",
        "data['Gust'] = np.array([0] + list(data['WindSpeed'][1:].values - \n",
        "                                   data['WindSpeed'][:-1].values))\n",
        "\n",
        "data = data[data['TimeDiff'].isin([10, -50])]\n",
        "data = data[data['ActivePower'] >= 0]\n",
        "data.head()"
      ],
      "execution_count": null,
      "outputs": [
        {
          "output_type": "execute_result",
          "data": {
            "text/html": [
              "<div>\n",
              "<style scoped>\n",
              "    .dataframe tbody tr th:only-of-type {\n",
              "        vertical-align: middle;\n",
              "    }\n",
              "\n",
              "    .dataframe tbody tr th {\n",
              "        vertical-align: top;\n",
              "    }\n",
              "\n",
              "    .dataframe thead th {\n",
              "        text-align: right;\n",
              "    }\n",
              "</style>\n",
              "<table border=\"1\" class=\"dataframe\">\n",
              "  <thead>\n",
              "    <tr style=\"text-align: right;\">\n",
              "      <th></th>\n",
              "      <th>Date/Time</th>\n",
              "      <th>ActivePower</th>\n",
              "      <th>WindSpeed</th>\n",
              "      <th>Power</th>\n",
              "      <th>WindDirection</th>\n",
              "      <th>Time</th>\n",
              "      <th>TimeDiff</th>\n",
              "      <th>Gust</th>\n",
              "    </tr>\n",
              "  </thead>\n",
              "  <tbody>\n",
              "    <tr>\n",
              "      <th>4</th>\n",
              "      <td>01 01 2018 00:40</td>\n",
              "      <td>380.650696</td>\n",
              "      <td>5.577941</td>\n",
              "      <td>491.702972</td>\n",
              "      <td>265.674286</td>\n",
              "      <td>40</td>\n",
              "      <td>10</td>\n",
              "      <td>-0.081733</td>\n",
              "    </tr>\n",
              "    <tr>\n",
              "      <th>5</th>\n",
              "      <td>01 01 2018 00:50</td>\n",
              "      <td>402.391998</td>\n",
              "      <td>5.604052</td>\n",
              "      <td>499.436385</td>\n",
              "      <td>264.578613</td>\n",
              "      <td>50</td>\n",
              "      <td>10</td>\n",
              "      <td>0.026111</td>\n",
              "    </tr>\n",
              "    <tr>\n",
              "      <th>6</th>\n",
              "      <td>01 01 2018 01:00</td>\n",
              "      <td>447.605713</td>\n",
              "      <td>5.793008</td>\n",
              "      <td>557.372363</td>\n",
              "      <td>266.163605</td>\n",
              "      <td>0</td>\n",
              "      <td>-50</td>\n",
              "      <td>0.188956</td>\n",
              "    </tr>\n",
              "    <tr>\n",
              "      <th>7</th>\n",
              "      <td>01 01 2018 01:10</td>\n",
              "      <td>387.242188</td>\n",
              "      <td>5.306050</td>\n",
              "      <td>414.898179</td>\n",
              "      <td>257.949493</td>\n",
              "      <td>10</td>\n",
              "      <td>10</td>\n",
              "      <td>-0.486958</td>\n",
              "    </tr>\n",
              "    <tr>\n",
              "      <th>8</th>\n",
              "      <td>01 01 2018 01:20</td>\n",
              "      <td>463.651215</td>\n",
              "      <td>5.584629</td>\n",
              "      <td>493.677652</td>\n",
              "      <td>253.480698</td>\n",
              "      <td>20</td>\n",
              "      <td>10</td>\n",
              "      <td>0.278579</td>\n",
              "    </tr>\n",
              "  </tbody>\n",
              "</table>\n",
              "</div>"
            ],
            "text/plain": [
              "          Date/Time  ActivePower  WindSpeed  ...  Time  TimeDiff      Gust\n",
              "4  01 01 2018 00:40   380.650696   5.577941  ...    40        10 -0.081733\n",
              "5  01 01 2018 00:50   402.391998   5.604052  ...    50        10  0.026111\n",
              "6  01 01 2018 01:00   447.605713   5.793008  ...     0       -50  0.188956\n",
              "7  01 01 2018 01:10   387.242188   5.306050  ...    10        10 -0.486958\n",
              "8  01 01 2018 01:20   463.651215   5.584629  ...    20        10  0.278579\n",
              "\n",
              "[5 rows x 8 columns]"
            ]
          },
          "metadata": {
            "tags": []
          },
          "execution_count": 58
        }
      ]
    },
    {
      "cell_type": "code",
      "metadata": {
        "id": "gpdKM_s3g_w2",
        "colab_type": "code",
        "colab": {
          "base_uri": "https://localhost:8080/",
          "height": 282
        },
        "outputId": "236120fe-c64d-4744-8681-f2299225c563"
      },
      "source": [
        "x = data.sort_values(by='WindSpeed')['WindSpeed']\n",
        "y = data.sort_values(by='WindSpeed')['Power']\n",
        "z = data.sort_values(by='WindSpeed')['Gust']\n",
        "\n",
        "plt.plot(x,y)\n",
        "plt.plot(z,y)"
      ],
      "execution_count": null,
      "outputs": [
        {
          "output_type": "execute_result",
          "data": {
            "text/plain": [
              "[<matplotlib.lines.Line2D at 0x7f4c8269c4e0>]"
            ]
          },
          "metadata": {
            "tags": []
          },
          "execution_count": 62
        },
        {
          "output_type": "display_data",
          "data": {
            "image/png": "[encoded data removed]",
            "text/plain": [
              "<Figure size 432x288 with 1 Axes>"
            ]
          },
          "metadata": {
            "tags": [],
            "needs_background": "light"
          }
        }
      ]
    },
    {
      "cell_type": "code",
      "metadata": {
        "id": "qDMvf7uYhgUc",
        "colab_type": "code",
        "colab": {}
      },
      "source": [
        "x_train = data[['WindSpeed', 'WindDirection', 'Gust']].values\n",
        "y_train = data['ActivePower'].values"
      ],
      "execution_count": null,
      "outputs": []
    }
  ]
}